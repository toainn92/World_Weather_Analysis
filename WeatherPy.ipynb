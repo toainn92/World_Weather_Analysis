{
 "cells": [
  {
   "cell_type": "code",
   "execution_count": 2,
   "metadata": {},
   "outputs": [],
   "source": [
    "# Import the dependencies.\n",
    "import pandas as pd\n",
    "import matplotlib.pyplot as plt\n",
    "import numpy as np"
   ]
  },
  {
   "cell_type": "code",
   "execution_count": 3,
   "metadata": {},
   "outputs": [
    {
     "data": {
      "text/plain": [
       "<zip at 0x13254dfcf08>"
      ]
     },
     "execution_count": 3,
     "metadata": {},
     "output_type": "execute_result"
    }
   ],
   "source": [
    "# Create a set of random latitude and longitude combinations.\n",
    "lats = np.random.uniform(low=-90.000, high=90.000, size=1500)\n",
    "lngs = np.random.uniform(low=-180.000, high=180.000, size=1500)\n",
    "lat_lngs = zip(lats, lngs)\n",
    "lat_lngs"
   ]
  },
  {
   "cell_type": "code",
   "execution_count": 4,
   "metadata": {},
   "outputs": [],
   "source": [
    "# Add the latitudes and longitudes to a list.\n",
    "coordinates = list(lat_lngs)"
   ]
  },
  {
   "cell_type": "code",
   "execution_count": 5,
   "metadata": {},
   "outputs": [],
   "source": [
    "# Use the citipy module to determine city based on latitude and longitude.\n",
    "from citipy import citipy"
   ]
  },
  {
   "cell_type": "code",
   "execution_count": 6,
   "metadata": {},
   "outputs": [
    {
     "data": {
      "text/plain": [
       "610"
      ]
     },
     "execution_count": 6,
     "metadata": {},
     "output_type": "execute_result"
    }
   ],
   "source": [
    "# Create a list for holding the cities.\n",
    "cities = []\n",
    "# Identify the nearest city for each latitude and longitude combination.\n",
    "for coordinate in coordinates:\n",
    "    city = citipy.nearest_city(coordinate[0], coordinate[1]).city_name\n",
    "\n",
    "    # If the city is unique, then we will add it to the cities list.\n",
    "    if city not in cities:\n",
    "        cities.append(city)\n",
    "# Print the city count to confirm sufficient count.\n",
    "len(cities)"
   ]
  },
  {
   "cell_type": "code",
   "execution_count": 7,
   "metadata": {},
   "outputs": [],
   "source": [
    "# Import the requests library.\n",
    "import requests\n",
    "\n",
    "# Import the API key.\n",
    "from config import weather_api_key"
   ]
  },
  {
   "cell_type": "code",
   "execution_count": 8,
   "metadata": {},
   "outputs": [
    {
     "name": "stdout",
     "output_type": "stream",
     "text": [
      "http://api.openweathermap.org/data/2.5/weather?units=Imperial&APPID=c52cc90b85e4e595d49e394023150204\n"
     ]
    }
   ],
   "source": [
    "# Starting URL for Weather Map API Call.\n",
    "url = \"http://api.openweathermap.org/data/2.5/weather?units=Imperial&APPID=\" + weather_api_key\n",
    "print(url)"
   ]
  },
  {
   "cell_type": "code",
   "execution_count": 9,
   "metadata": {},
   "outputs": [
    {
     "name": "stdout",
     "output_type": "stream",
     "text": [
      "http://api.openweathermap.org/data/2.5/weather?units=Imperial&APPID=c52cc90b85e4e595d49e394023150204&q=Boston\n"
     ]
    }
   ],
   "source": [
    "# Create an endpoint URL for a city.\n",
    "city_url = url + \"&q=\" + \"Boston\"\n",
    "print(city_url)"
   ]
  },
  {
   "cell_type": "code",
   "execution_count": 10,
   "metadata": {},
   "outputs": [
    {
     "data": {
      "text/plain": [
       "<Response [200]>"
      ]
     },
     "execution_count": 10,
     "metadata": {},
     "output_type": "execute_result"
    }
   ],
   "source": [
    "# Make a 'Get' request for the city weather.\n",
    "city_weather = requests.get(city_url)\n",
    "city_weather"
   ]
  },
  {
   "cell_type": "code",
   "execution_count": 11,
   "metadata": {},
   "outputs": [
    {
     "data": {
      "text/plain": [
       "200"
      ]
     },
     "execution_count": 11,
     "metadata": {},
     "output_type": "execute_result"
    }
   ],
   "source": [
    "city_weather.status_code"
   ]
  },
  {
   "cell_type": "code",
   "execution_count": 12,
   "metadata": {},
   "outputs": [
    {
     "data": {
      "text/plain": [
       "<Response [200]>"
      ]
     },
     "execution_count": 12,
     "metadata": {},
     "output_type": "execute_result"
    }
   ],
   "source": [
    "# Create an endpoint URL for a city.\n",
    "city_url = url + \"&q=\" + \"Boston\"\n",
    "city_weather = requests.get(city_url)\n",
    "city_weather"
   ]
  },
  {
   "cell_type": "code",
   "execution_count": 13,
   "metadata": {},
   "outputs": [
    {
     "data": {
      "text/plain": [
       "'{\"coord\":{\"lon\":-71.06,\"lat\":42.36},\"weather\":[{\"id\":701,\"main\":\"Mist\",\"description\":\"mist\",\"icon\":\"50d\"},{\"id\":601,\"main\":\"Snow\",\"description\":\"snow\",\"icon\":\"13d\"}],\"base\":\"stations\",\"main\":{\"temp\":30.65,\"feels_like\":16.9,\"temp_min\":28.99,\"temp_max\":32,\"pressure\":1014,\"humidity\":92},\"visibility\":1207,\"wind\":{\"speed\":17.22,\"deg\":330,\"gust\":26.4},\"snow\":{\"1h\":1.59},\"clouds\":{\"all\":90},\"dt\":1604081454,\"sys\":{\"type\":1,\"id\":3486,\"country\":\"US\",\"sunrise\":1604056535,\"sunset\":1604094000},\"timezone\":-14400,\"id\":4930956,\"name\":\"Boston\",\"cod\":200}'"
      ]
     },
     "execution_count": 13,
     "metadata": {},
     "output_type": "execute_result"
    }
   ],
   "source": [
    "# Get the text of the 'Get' request.\n",
    "city_weather.text"
   ]
  },
  {
   "cell_type": "code",
   "execution_count": 14,
   "metadata": {},
   "outputs": [
    {
     "data": {
      "text/plain": [
       "{'coord': {'lon': -71.06, 'lat': 42.36},\n",
       " 'weather': [{'id': 701, 'main': 'Mist', 'description': 'mist', 'icon': '50d'},\n",
       "  {'id': 601, 'main': 'Snow', 'description': 'snow', 'icon': '13d'}],\n",
       " 'base': 'stations',\n",
       " 'main': {'temp': 30.65,\n",
       "  'feels_like': 16.9,\n",
       "  'temp_min': 28.99,\n",
       "  'temp_max': 32,\n",
       "  'pressure': 1014,\n",
       "  'humidity': 92},\n",
       " 'visibility': 1207,\n",
       " 'wind': {'speed': 17.22, 'deg': 330, 'gust': 26.4},\n",
       " 'snow': {'1h': 1.59},\n",
       " 'clouds': {'all': 90},\n",
       " 'dt': 1604081454,\n",
       " 'sys': {'type': 1,\n",
       "  'id': 3486,\n",
       "  'country': 'US',\n",
       "  'sunrise': 1604056535,\n",
       "  'sunset': 1604094000},\n",
       " 'timezone': -14400,\n",
       " 'id': 4930956,\n",
       " 'name': 'Boston',\n",
       " 'cod': 200}"
      ]
     },
     "execution_count": 14,
     "metadata": {},
     "output_type": "execute_result"
    }
   ],
   "source": [
    "# Get the JSON text of the 'Get' request.\n",
    "city_weather.json()"
   ]
  },
  {
   "cell_type": "code",
   "execution_count": 15,
   "metadata": {},
   "outputs": [
    {
     "name": "stdout",
     "output_type": "stream",
     "text": [
      "City Weather found.\n"
     ]
    }
   ],
   "source": [
    "# Create an endpoint URL for a city.\n",
    "city_url = url + \"&q=\" + \"Boston\"\n",
    "city_weather = requests.get(city_url)\n",
    "if city_weather.status_code == 200:\n",
    "    print(f\"City Weather found.\")\n",
    "else:\n",
    "    print(f\"City weather not found.\")"
   ]
  },
  {
   "cell_type": "code",
   "execution_count": 16,
   "metadata": {},
   "outputs": [
    {
     "data": {
      "text/plain": [
       "{'coord': {'lon': -71.06, 'lat': 42.36},\n",
       " 'weather': [{'id': 701, 'main': 'Mist', 'description': 'mist', 'icon': '50d'},\n",
       "  {'id': 601, 'main': 'Snow', 'description': 'snow', 'icon': '13d'}],\n",
       " 'base': 'stations',\n",
       " 'main': {'temp': 30.65,\n",
       "  'feels_like': 16.9,\n",
       "  'temp_min': 28.99,\n",
       "  'temp_max': 32,\n",
       "  'pressure': 1014,\n",
       "  'humidity': 92},\n",
       " 'visibility': 1207,\n",
       " 'wind': {'speed': 17.22, 'deg': 330, 'gust': 26.4},\n",
       " 'snow': {'1h': 1.59},\n",
       " 'clouds': {'all': 90},\n",
       " 'dt': 1604081454,\n",
       " 'sys': {'type': 1,\n",
       "  'id': 3486,\n",
       "  'country': 'US',\n",
       "  'sunrise': 1604056535,\n",
       "  'sunset': 1604094000},\n",
       " 'timezone': -14400,\n",
       " 'id': 4930956,\n",
       " 'name': 'Boston',\n",
       " 'cod': 200}"
      ]
     },
     "execution_count": 16,
     "metadata": {},
     "output_type": "execute_result"
    }
   ],
   "source": [
    "# Create an endpoint URL for a city.\n",
    "city_url = url + \"&q=\" + \"Boston\"\n",
    "city_weather = requests.get(city_url)\n",
    "city_weather.json()"
   ]
  },
  {
   "cell_type": "code",
   "execution_count": 17,
   "metadata": {},
   "outputs": [],
   "source": [
    "# Get the JSON data.\n",
    "boston_data = city_weather.json()"
   ]
  },
  {
   "cell_type": "code",
   "execution_count": 18,
   "metadata": {},
   "outputs": [
    {
     "data": {
      "text/plain": [
       "{'type': 1,\n",
       " 'id': 3486,\n",
       " 'country': 'US',\n",
       " 'sunrise': 1604056535,\n",
       " 'sunset': 1604094000}"
      ]
     },
     "execution_count": 18,
     "metadata": {},
     "output_type": "execute_result"
    }
   ],
   "source": [
    "boston_data[\"sys\"]"
   ]
  },
  {
   "cell_type": "code",
   "execution_count": 19,
   "metadata": {},
   "outputs": [
    {
     "data": {
      "text/plain": [
       "'US'"
      ]
     },
     "execution_count": 19,
     "metadata": {},
     "output_type": "execute_result"
    }
   ],
   "source": [
    "boston_data[\"sys\"][\"country\"]"
   ]
  },
  {
   "cell_type": "code",
   "execution_count": 20,
   "metadata": {},
   "outputs": [
    {
     "name": "stdout",
     "output_type": "stream",
     "text": [
      "42.36 -71.06 32 92 90 17.22\n"
     ]
    }
   ],
   "source": [
    "lat = boston_data[\"coord\"][\"lat\"]\n",
    "lng = boston_data[\"coord\"][\"lon\"]\n",
    "max_temp = boston_data[\"main\"][\"temp_max\"]\n",
    "humidity = boston_data[\"main\"][\"humidity\"]\n",
    "clouds = boston_data[\"clouds\"][\"all\"]\n",
    "wind = boston_data[\"wind\"][\"speed\"]\n",
    "print(lat, lng, max_temp, humidity, clouds, wind)"
   ]
  },
  {
   "cell_type": "code",
   "execution_count": 21,
   "metadata": {},
   "outputs": [
    {
     "data": {
      "text/plain": [
       "1604081454"
      ]
     },
     "execution_count": 21,
     "metadata": {},
     "output_type": "execute_result"
    }
   ],
   "source": [
    "boston_data[\"dt\"]"
   ]
  },
  {
   "cell_type": "code",
   "execution_count": 22,
   "metadata": {},
   "outputs": [
    {
     "data": {
      "text/plain": [
       "datetime.datetime(2020, 10, 30, 18, 10, 54)"
      ]
     },
     "execution_count": 22,
     "metadata": {},
     "output_type": "execute_result"
    }
   ],
   "source": [
    "# Import the datetime module from the datetime library.\n",
    "from datetime import datetime\n",
    "# Get the date from the JSON file.\n",
    "date = boston_data[\"dt\"]\n",
    "# Convert the UTC date to a date format with year, month, day, hours, minutes, and seconds.\n",
    "datetime.utcfromtimestamp(date)"
   ]
  },
  {
   "cell_type": "code",
   "execution_count": 23,
   "metadata": {},
   "outputs": [
    {
     "data": {
      "text/plain": [
       "'2020-10-30 18:10:54'"
      ]
     },
     "execution_count": 23,
     "metadata": {},
     "output_type": "execute_result"
    }
   ],
   "source": [
    "datetime.utcfromtimestamp(date).strftime('%Y-%m-%d %H:%M:%S')"
   ]
  },
  {
   "cell_type": "code",
   "execution_count": 24,
   "metadata": {},
   "outputs": [],
   "source": [
    "# Import the datetime module from the datetime library.\n",
    "from datetime import datetime"
   ]
  },
  {
   "cell_type": "code",
   "execution_count": 26,
   "metadata": {},
   "outputs": [
    {
     "name": "stdout",
     "output_type": "stream",
     "text": [
      "Beginning Data Retrieval     \n",
      "-----------------------------\n",
      "Processing Record 1 of Set 1 | arlington\n",
      "Processing Record 2 of Set 1 | upernavik\n",
      "Processing Record 3 of Set 1 | port lincoln\n",
      "Processing Record 4 of Set 1 | jamestown\n",
      "Processing Record 5 of Set 1 | hermanus\n",
      "Processing Record 6 of Set 1 | ushuaia\n",
      "Processing Record 7 of Set 1 | hobart\n",
      "Processing Record 8 of Set 1 | hasaki\n",
      "Processing Record 9 of Set 1 | rikitea\n",
      "Processing Record 10 of Set 1 | mahebourg\n",
      "Processing Record 11 of Set 1 | san patricio\n",
      "Processing Record 12 of Set 1 | puerto ayora\n",
      "Processing Record 13 of Set 1 | waipawa\n",
      "Processing Record 14 of Set 1 | busselton\n",
      "Processing Record 15 of Set 1 | esperance\n",
      "Processing Record 16 of Set 1 | mar del plata\n",
      "Processing Record 17 of Set 1 | puri\n",
      "Processing Record 18 of Set 1 | qaanaaq\n",
      "Processing Record 19 of Set 1 | kyshtovka\n",
      "Processing Record 20 of Set 1 | norman wells\n",
      "Processing Record 21 of Set 1 | punta arenas\n",
      "Processing Record 22 of Set 1 | san quintin\n",
      "Processing Record 23 of Set 1 | illoqqortoormiut\n",
      "City not found. Skipping...\n",
      "Processing Record 24 of Set 1 | mataura\n",
      "Processing Record 25 of Set 1 | chuy\n",
      "Processing Record 26 of Set 1 | yellowknife\n",
      "Processing Record 27 of Set 1 | sentyabrskiy\n",
      "City not found. Skipping...\n",
      "Processing Record 28 of Set 1 | geraldton\n",
      "Processing Record 29 of Set 1 | tommot\n",
      "Processing Record 30 of Set 1 | sudbury\n",
      "Processing Record 31 of Set 1 | carnarvon\n",
      "Processing Record 32 of Set 1 | tigzirt\n",
      "Processing Record 33 of Set 1 | kamenskoye\n",
      "City not found. Skipping...\n",
      "Processing Record 34 of Set 1 | sao jose da coroa grande\n",
      "Processing Record 35 of Set 1 | shancheng\n",
      "Processing Record 36 of Set 1 | komsomolskiy\n",
      "Processing Record 37 of Set 1 | castro\n",
      "Processing Record 38 of Set 1 | vaini\n",
      "Processing Record 39 of Set 1 | albany\n",
      "Processing Record 40 of Set 1 | berlevag\n",
      "Processing Record 41 of Set 1 | sao joao da barra\n",
      "Processing Record 42 of Set 1 | lebu\n",
      "Processing Record 43 of Set 1 | barrow\n",
      "Processing Record 44 of Set 1 | itarema\n",
      "Processing Record 45 of Set 1 | cape town\n",
      "Processing Record 46 of Set 1 | east london\n",
      "Processing Record 47 of Set 1 | talcahuano\n",
      "Processing Record 48 of Set 1 | catuday\n",
      "Processing Record 49 of Set 1 | jiwani\n",
      "Processing Record 50 of Set 1 | palabuhanratu\n",
      "City not found. Skipping...\n",
      "Processing Record 1 of Set 2 | fortuna\n",
      "Processing Record 2 of Set 2 | isangel\n",
      "Processing Record 3 of Set 2 | chokurdakh\n",
      "Processing Record 4 of Set 2 | severo-kurilsk\n",
      "Processing Record 5 of Set 2 | kapaa\n",
      "Processing Record 6 of Set 2 | bluff\n",
      "Processing Record 7 of Set 2 | skibbereen\n",
      "Processing Record 8 of Set 2 | katsuura\n",
      "Processing Record 9 of Set 2 | maniitsoq\n",
      "Processing Record 10 of Set 2 | coquimbo\n",
      "Processing Record 11 of Set 2 | thompson\n",
      "Processing Record 12 of Set 2 | butaritari\n",
      "Processing Record 13 of Set 2 | bull savanna\n",
      "Processing Record 14 of Set 2 | port elizabeth\n",
      "Processing Record 15 of Set 2 | beira\n",
      "Processing Record 16 of Set 2 | tsentralnyy\n",
      "City not found. Skipping...\n",
      "Processing Record 17 of Set 2 | wahran\n",
      "City not found. Skipping...\n",
      "Processing Record 18 of Set 2 | manicore\n",
      "Processing Record 19 of Set 2 | torbay\n",
      "Processing Record 20 of Set 2 | kodiak\n",
      "Processing Record 21 of Set 2 | tasiilaq\n",
      "Processing Record 22 of Set 2 | kaitangata\n",
      "Processing Record 23 of Set 2 | dingle\n",
      "Processing Record 24 of Set 2 | nemuro\n",
      "Processing Record 25 of Set 2 | saint-joseph\n",
      "Processing Record 26 of Set 2 | kahului\n",
      "Processing Record 27 of Set 2 | choucheng\n",
      "City not found. Skipping...\n",
      "Processing Record 28 of Set 2 | shimoda\n",
      "Processing Record 29 of Set 2 | babanusah\n",
      "City not found. Skipping...\n",
      "Processing Record 30 of Set 2 | vaitupu\n",
      "City not found. Skipping...\n",
      "Processing Record 31 of Set 2 | goderich\n",
      "Processing Record 32 of Set 2 | cabo san lucas\n",
      "Processing Record 33 of Set 2 | jalu\n",
      "Processing Record 34 of Set 2 | tuktoyaktuk\n",
      "Processing Record 35 of Set 2 | okha\n",
      "Processing Record 36 of Set 2 | mayaky\n",
      "Processing Record 37 of Set 2 | hilo\n",
      "Processing Record 38 of Set 2 | egvekinot\n",
      "Processing Record 39 of Set 2 | ambodifototra\n",
      "City not found. Skipping...\n",
      "Processing Record 40 of Set 2 | havre-saint-pierre\n",
      "Processing Record 41 of Set 2 | svetlaya\n",
      "Processing Record 42 of Set 2 | victoria\n",
      "Processing Record 43 of Set 2 | nizhneyansk\n",
      "City not found. Skipping...\n",
      "Processing Record 44 of Set 2 | vao\n",
      "Processing Record 45 of Set 2 | padang\n",
      "Processing Record 46 of Set 2 | kiunga\n",
      "Processing Record 47 of Set 2 | hudson bay\n",
      "Processing Record 48 of Set 2 | iqaluit\n",
      "Processing Record 49 of Set 2 | nikolskoye\n",
      "Processing Record 50 of Set 2 | bilma\n",
      "Processing Record 1 of Set 3 | pangnirtung\n",
      "Processing Record 2 of Set 3 | bredasdorp\n",
      "Processing Record 3 of Set 3 | georgetown\n",
      "Processing Record 4 of Set 3 | gizo\n",
      "Processing Record 5 of Set 3 | khatanga\n",
      "Processing Record 6 of Set 3 | maun\n",
      "Processing Record 7 of Set 3 | arraial do cabo\n",
      "Processing Record 8 of Set 3 | port alfred\n",
      "Processing Record 9 of Set 3 | laguna\n",
      "Processing Record 10 of Set 3 | verkhnyaya inta\n",
      "Processing Record 11 of Set 3 | airai\n",
      "Processing Record 12 of Set 3 | biak\n",
      "Processing Record 13 of Set 3 | vestmannaeyjar\n",
      "Processing Record 14 of Set 3 | tiksi\n",
      "Processing Record 15 of Set 3 | vanimo\n",
      "Processing Record 16 of Set 3 | atuona\n",
      "Processing Record 17 of Set 3 | acarau\n",
      "Processing Record 18 of Set 3 | molo\n",
      "Processing Record 19 of Set 3 | dhing\n",
      "Processing Record 20 of Set 3 | sumbe\n",
      "Processing Record 21 of Set 3 | kununurra\n",
      "Processing Record 22 of Set 3 | bardiyah\n",
      "Processing Record 23 of Set 3 | dekar\n",
      "Processing Record 24 of Set 3 | brae\n",
      "Processing Record 25 of Set 3 | attawapiskat\n",
      "City not found. Skipping...\n",
      "Processing Record 26 of Set 3 | merauke\n",
      "Processing Record 27 of Set 3 | clyde river\n",
      "Processing Record 28 of Set 3 | ballina\n",
      "Processing Record 29 of Set 3 | olafsvik\n",
      "Processing Record 30 of Set 3 | straumen\n",
      "Processing Record 31 of Set 3 | cidreira\n",
      "Processing Record 32 of Set 3 | yulara\n",
      "Processing Record 33 of Set 3 | kosikha\n",
      "Processing Record 34 of Set 3 | barentsburg\n",
      "City not found. Skipping...\n",
      "Processing Record 35 of Set 3 | munster\n",
      "Processing Record 36 of Set 3 | lompoc\n",
      "Processing Record 37 of Set 3 | mutsamudu\n",
      "City not found. Skipping...\n",
      "Processing Record 38 of Set 3 | takoradi\n",
      "Processing Record 39 of Set 3 | high level\n",
      "Processing Record 40 of Set 3 | bechyne\n",
      "Processing Record 41 of Set 3 | luga\n",
      "Processing Record 42 of Set 3 | luebo\n",
      "Processing Record 43 of Set 3 | guerrero negro\n",
      "Processing Record 44 of Set 3 | bambous virieux\n",
      "Processing Record 45 of Set 3 | kaeo\n",
      "Processing Record 46 of Set 3 | tilichiki\n",
      "Processing Record 47 of Set 3 | kuching\n",
      "Processing Record 48 of Set 3 | okhotsk\n",
      "Processing Record 49 of Set 3 | dikson\n",
      "Processing Record 50 of Set 3 | yerbogachen\n",
      "Processing Record 1 of Set 4 | puerto baquerizo moreno\n",
      "Processing Record 2 of Set 4 | mys shmidta\n",
      "City not found. Skipping...\n",
      "Processing Record 3 of Set 4 | galveston\n",
      "Processing Record 4 of Set 4 | conceicao do araguaia\n",
      "Processing Record 5 of Set 4 | umzimvubu\n",
      "City not found. Skipping...\n",
      "Processing Record 6 of Set 4 | ribeira grande\n",
      "Processing Record 7 of Set 4 | ascension\n",
      "Processing Record 8 of Set 4 | kavieng\n",
      "Processing Record 9 of Set 4 | harper\n",
      "Processing Record 10 of Set 4 | taolanaro\n",
      "City not found. Skipping...\n",
      "Processing Record 11 of Set 4 | provideniya\n",
      "Processing Record 12 of Set 4 | luwingu\n",
      "Processing Record 13 of Set 4 | murgab\n",
      "Processing Record 14 of Set 4 | qiongshan\n",
      "Processing Record 15 of Set 4 | kutum\n",
      "Processing Record 16 of Set 4 | hobyo\n",
      "Processing Record 17 of Set 4 | yuancheng\n",
      "Processing Record 18 of Set 4 | puerto carreno\n",
      "Processing Record 19 of Set 4 | atbasar\n",
      "Processing Record 20 of Set 4 | san cristobal\n",
      "Processing Record 21 of Set 4 | bytosh\n",
      "Processing Record 22 of Set 4 | new norfolk\n",
      "Processing Record 23 of Set 4 | haines junction\n",
      "Processing Record 24 of Set 4 | praia da vitoria\n",
      "Processing Record 25 of Set 4 | cururupu\n",
      "Processing Record 26 of Set 4 | amzya\n",
      "Processing Record 27 of Set 4 | westport\n",
      "Processing Record 28 of Set 4 | baixa grande\n",
      "Processing Record 29 of Set 4 | yazman\n",
      "Processing Record 30 of Set 4 | nichelino\n",
      "Processing Record 31 of Set 4 | kismayo\n",
      "Processing Record 32 of Set 4 | cherskiy\n",
      "Processing Record 33 of Set 4 | tahta\n",
      "Processing Record 34 of Set 4 | abbeville\n",
      "Processing Record 35 of Set 4 | saint george\n",
      "Processing Record 36 of Set 4 | desaguadero\n"
     ]
    },
    {
     "name": "stdout",
     "output_type": "stream",
     "text": [
      "Processing Record 37 of Set 4 | saint-philippe\n",
      "Processing Record 38 of Set 4 | souillac\n",
      "Processing Record 39 of Set 4 | imbituba\n",
      "Processing Record 40 of Set 4 | chabahar\n",
      "Processing Record 41 of Set 4 | curup\n",
      "Processing Record 42 of Set 4 | namatanai\n",
      "Processing Record 43 of Set 4 | sorong\n",
      "Processing Record 44 of Set 4 | mogwase\n",
      "Processing Record 45 of Set 4 | kruisfontein\n",
      "Processing Record 46 of Set 4 | xinan\n",
      "Processing Record 47 of Set 4 | ponta do sol\n",
      "Processing Record 48 of Set 4 | avarua\n",
      "Processing Record 49 of Set 4 | boddam\n",
      "Processing Record 50 of Set 4 | mayumba\n",
      "Processing Record 1 of Set 5 | oda\n",
      "Processing Record 2 of Set 5 | kuche\n",
      "City not found. Skipping...\n",
      "Processing Record 3 of Set 5 | faanui\n",
      "Processing Record 4 of Set 5 | turukhansk\n",
      "Processing Record 5 of Set 5 | viedma\n",
      "Processing Record 6 of Set 5 | codrington\n",
      "Processing Record 7 of Set 5 | dire dawa\n",
      "Processing Record 8 of Set 5 | leningradskiy\n",
      "Processing Record 9 of Set 5 | tefe\n",
      "Processing Record 10 of Set 5 | phalodi\n",
      "Processing Record 11 of Set 5 | chushan\n",
      "Processing Record 12 of Set 5 | tocopilla\n",
      "Processing Record 13 of Set 5 | kirakira\n",
      "Processing Record 14 of Set 5 | manokwari\n",
      "Processing Record 15 of Set 5 | faya\n",
      "Processing Record 16 of Set 5 | hendijan\n",
      "City not found. Skipping...\n",
      "Processing Record 17 of Set 5 | kloulklubed\n",
      "Processing Record 18 of Set 5 | parana\n",
      "Processing Record 19 of Set 5 | jvari\n",
      "Processing Record 20 of Set 5 | maragogi\n",
      "Processing Record 21 of Set 5 | tsogni\n",
      "Processing Record 22 of Set 5 | urbano santos\n",
      "Processing Record 23 of Set 5 | rundu\n",
      "Processing Record 24 of Set 5 | mlonggo\n",
      "Processing Record 25 of Set 5 | moron\n",
      "Processing Record 26 of Set 5 | duayaw nkwanta\n",
      "Processing Record 27 of Set 5 | margate\n",
      "Processing Record 28 of Set 5 | hovd\n",
      "Processing Record 29 of Set 5 | husavik\n",
      "Processing Record 30 of Set 5 | puerto el triunfo\n",
      "Processing Record 31 of Set 5 | kattivakkam\n",
      "Processing Record 32 of Set 5 | dhidhdhoo\n",
      "Processing Record 33 of Set 5 | kavaratti\n",
      "Processing Record 34 of Set 5 | hithadhoo\n",
      "Processing Record 35 of Set 5 | ostrovnoy\n",
      "Processing Record 36 of Set 5 | grand river south east\n",
      "City not found. Skipping...\n",
      "Processing Record 37 of Set 5 | barawe\n",
      "City not found. Skipping...\n",
      "Processing Record 38 of Set 5 | akola\n",
      "Processing Record 39 of Set 5 | hofn\n",
      "Processing Record 40 of Set 5 | gazanjyk\n",
      "Processing Record 41 of Set 5 | kudahuvadhoo\n",
      "Processing Record 42 of Set 5 | gat\n",
      "Processing Record 43 of Set 5 | vanavara\n",
      "Processing Record 44 of Set 5 | pahrump\n",
      "Processing Record 45 of Set 5 | saskylakh\n",
      "Processing Record 46 of Set 5 | champawat\n",
      "Processing Record 47 of Set 5 | shelburne\n",
      "Processing Record 48 of Set 5 | calabozo\n",
      "Processing Record 49 of Set 5 | meulaboh\n",
      "Processing Record 50 of Set 5 | abiy adi\n",
      "City not found. Skipping...\n",
      "Processing Record 1 of Set 6 | bethel\n",
      "Processing Record 2 of Set 6 | acapulco\n",
      "Processing Record 3 of Set 6 | tawkar\n",
      "City not found. Skipping...\n",
      "Processing Record 4 of Set 6 | meadow lake\n",
      "Processing Record 5 of Set 6 | ambon\n",
      "Processing Record 6 of Set 6 | birobidzhan\n",
      "Processing Record 7 of Set 6 | longyearbyen\n",
      "Processing Record 8 of Set 6 | ayagoz\n",
      "Processing Record 9 of Set 6 | vondrozo\n",
      "Processing Record 10 of Set 6 | warwick\n",
      "Processing Record 11 of Set 6 | russell\n",
      "Processing Record 12 of Set 6 | shenjiamen\n",
      "Processing Record 13 of Set 6 | alice springs\n",
      "Processing Record 14 of Set 6 | bafq\n",
      "Processing Record 15 of Set 6 | magadan\n",
      "Processing Record 16 of Set 6 | batagay\n",
      "Processing Record 17 of Set 6 | athens\n",
      "Processing Record 18 of Set 6 | rawah\n",
      "Processing Record 19 of Set 6 | tiruvottiyur\n",
      "City not found. Skipping...\n",
      "Processing Record 20 of Set 6 | mount gambier\n",
      "Processing Record 21 of Set 6 | morant bay\n",
      "Processing Record 22 of Set 6 | chapleau\n",
      "Processing Record 23 of Set 6 | naze\n",
      "Processing Record 24 of Set 6 | amderma\n",
      "City not found. Skipping...\n",
      "Processing Record 25 of Set 6 | longuenesse\n",
      "Processing Record 26 of Set 6 | hami\n",
      "Processing Record 27 of Set 6 | satitoa\n",
      "City not found. Skipping...\n",
      "Processing Record 28 of Set 6 | alyangula\n",
      "Processing Record 29 of Set 6 | kargat\n",
      "Processing Record 30 of Set 6 | nome\n",
      "Processing Record 31 of Set 6 | salinopolis\n",
      "Processing Record 32 of Set 6 | santa cruz\n",
      "Processing Record 33 of Set 6 | dunedin\n",
      "Processing Record 34 of Set 6 | saldanha\n",
      "Processing Record 35 of Set 6 | yuanping\n",
      "Processing Record 36 of Set 6 | mount pleasant\n",
      "Processing Record 37 of Set 6 | tsiroanomandidy\n",
      "Processing Record 38 of Set 6 | bantacan\n",
      "Processing Record 39 of Set 6 | pisco\n",
      "Processing Record 40 of Set 6 | half moon bay\n",
      "Processing Record 41 of Set 6 | rawson\n",
      "Processing Record 42 of Set 6 | concepcion del oro\n",
      "Processing Record 43 of Set 6 | la sarre\n",
      "Processing Record 44 of Set 6 | houma\n",
      "Processing Record 45 of Set 6 | la rioja\n",
      "Processing Record 46 of Set 6 | takahagi\n",
      "Processing Record 47 of Set 6 | tumannyy\n",
      "City not found. Skipping...\n",
      "Processing Record 48 of Set 6 | mahaicony\n",
      "City not found. Skipping...\n",
      "Processing Record 49 of Set 6 | grand gaube\n",
      "Processing Record 50 of Set 6 | piribebuy\n",
      "Processing Record 1 of Set 7 | tautira\n",
      "Processing Record 2 of Set 7 | salalah\n",
      "Processing Record 3 of Set 7 | port hardy\n",
      "Processing Record 4 of Set 7 | galle\n",
      "Processing Record 5 of Set 7 | corralillo\n",
      "Processing Record 6 of Set 7 | bengkulu\n",
      "Processing Record 7 of Set 7 | rocha\n",
      "Processing Record 8 of Set 7 | flinders\n",
      "Processing Record 9 of Set 7 | klaksvik\n",
      "Processing Record 10 of Set 7 | mogadishu\n",
      "Processing Record 11 of Set 7 | lamont\n",
      "Processing Record 12 of Set 7 | abonnema\n",
      "Processing Record 13 of Set 7 | beringovskiy\n",
      "Processing Record 14 of Set 7 | vila velha\n",
      "Processing Record 15 of Set 7 | kedrovka\n",
      "Processing Record 16 of Set 7 | kalikino\n",
      "Processing Record 17 of Set 7 | vasto\n",
      "Processing Record 18 of Set 7 | ormara\n",
      "Processing Record 19 of Set 7 | caconda\n",
      "Processing Record 20 of Set 7 | nouadhibou\n",
      "Processing Record 21 of Set 7 | afgoye\n",
      "City not found. Skipping...\n",
      "Processing Record 22 of Set 7 | sao filipe\n",
      "Processing Record 23 of Set 7 | vila franca do campo\n",
      "Processing Record 24 of Set 7 | mrirt\n",
      "City not found. Skipping...\n",
      "Processing Record 25 of Set 7 | pochutla\n",
      "Processing Record 26 of Set 7 | bereda\n",
      "Processing Record 27 of Set 7 | burnie\n",
      "Processing Record 28 of Set 7 | umm lajj\n",
      "Processing Record 29 of Set 7 | havelock\n",
      "Processing Record 30 of Set 7 | ganzhou\n",
      "Processing Record 31 of Set 7 | johnstown\n",
      "Processing Record 32 of Set 7 | virginia beach\n",
      "Processing Record 33 of Set 7 | sitka\n",
      "Processing Record 34 of Set 7 | awbari\n",
      "Processing Record 35 of Set 7 | marsh harbour\n",
      "Processing Record 36 of Set 7 | os\n",
      "City not found. Skipping...\n",
      "Processing Record 37 of Set 7 | kalmar\n",
      "Processing Record 38 of Set 7 | nyurba\n",
      "Processing Record 39 of Set 7 | mariinsk\n",
      "Processing Record 40 of Set 7 | jiuquan\n",
      "Processing Record 41 of Set 7 | arlit\n",
      "Processing Record 42 of Set 7 | nelson bay\n",
      "Processing Record 43 of Set 7 | techiman\n",
      "Processing Record 44 of Set 7 | umba\n",
      "Processing Record 45 of Set 7 | ingham\n",
      "Processing Record 46 of Set 7 | xining\n",
      "Processing Record 47 of Set 7 | qianan\n",
      "Processing Record 48 of Set 7 | kyra\n",
      "Processing Record 49 of Set 7 | henties bay\n",
      "Processing Record 50 of Set 7 | bosaso\n",
      "Processing Record 1 of Set 8 | krasnoselkup\n",
      "Processing Record 2 of Set 8 | luderitz\n",
      "Processing Record 3 of Set 8 | mareeba\n",
      "Processing Record 4 of Set 8 | belushya guba\n",
      "City not found. Skipping...\n",
      "Processing Record 5 of Set 8 | mitsamiouli\n",
      "Processing Record 6 of Set 8 | riyadh\n",
      "Processing Record 7 of Set 8 | antsohihy\n",
      "Processing Record 8 of Set 8 | yeppoon\n",
      "Processing Record 9 of Set 8 | poum\n",
      "Processing Record 10 of Set 8 | saryshagan\n",
      "City not found. Skipping...\n",
      "Processing Record 11 of Set 8 | asekeyevo\n",
      "Processing Record 12 of Set 8 | beipiao\n",
      "Processing Record 13 of Set 8 | totoral\n",
      "Processing Record 14 of Set 8 | charters towers\n",
      "Processing Record 15 of Set 8 | ancud\n",
      "Processing Record 16 of Set 8 | kedarnath\n",
      "City not found. Skipping...\n",
      "Processing Record 17 of Set 8 | boyolangu\n",
      "Processing Record 18 of Set 8 | mayna\n",
      "Processing Record 19 of Set 8 | puerto escondido\n",
      "Processing Record 20 of Set 8 | meyungs\n",
      "City not found. Skipping...\n",
      "Processing Record 21 of Set 8 | lishu\n",
      "Processing Record 22 of Set 8 | sortavala\n",
      "Processing Record 23 of Set 8 | nicoya\n",
      "Processing Record 24 of Set 8 | grindavik\n"
     ]
    },
    {
     "name": "stdout",
     "output_type": "stream",
     "text": [
      "Processing Record 25 of Set 8 | tsihombe\n",
      "City not found. Skipping...\n",
      "Processing Record 26 of Set 8 | kieta\n",
      "Processing Record 27 of Set 8 | manassas\n",
      "Processing Record 28 of Set 8 | dalbandin\n",
      "Processing Record 29 of Set 8 | fort saint john\n",
      "City not found. Skipping...\n",
      "Processing Record 30 of Set 8 | milas\n",
      "Processing Record 31 of Set 8 | dawlatabad\n",
      "Processing Record 32 of Set 8 | warqla\n",
      "City not found. Skipping...\n",
      "Processing Record 33 of Set 8 | kijang\n",
      "Processing Record 34 of Set 8 | tokur\n",
      "Processing Record 35 of Set 8 | nyul\n",
      "Processing Record 36 of Set 8 | la ronge\n",
      "Processing Record 37 of Set 8 | giyani\n",
      "Processing Record 38 of Set 8 | atyrau\n",
      "Processing Record 39 of Set 8 | muhos\n",
      "Processing Record 40 of Set 8 | upata\n",
      "Processing Record 41 of Set 8 | staritsa\n",
      "Processing Record 42 of Set 8 | narsaq\n",
      "Processing Record 43 of Set 8 | kiruna\n",
      "Processing Record 44 of Set 8 | ust-koksa\n",
      "Processing Record 45 of Set 8 | vostok\n",
      "Processing Record 46 of Set 8 | mahon\n",
      "Processing Record 47 of Set 8 | araouane\n",
      "Processing Record 48 of Set 8 | gornopravdinsk\n",
      "Processing Record 49 of Set 8 | samusu\n",
      "City not found. Skipping...\n",
      "Processing Record 50 of Set 8 | pevek\n",
      "Processing Record 1 of Set 9 | labuhan\n",
      "Processing Record 2 of Set 9 | yirol\n",
      "City not found. Skipping...\n",
      "Processing Record 3 of Set 9 | fairbanks\n",
      "Processing Record 4 of Set 9 | maliq\n",
      "Processing Record 5 of Set 9 | kuala krai\n",
      "City not found. Skipping...\n",
      "Processing Record 6 of Set 9 | pilao arcado\n",
      "City not found. Skipping...\n",
      "Processing Record 7 of Set 9 | muros\n",
      "Processing Record 8 of Set 9 | gladstone\n",
      "Processing Record 9 of Set 9 | turangi\n",
      "Processing Record 10 of Set 9 | lagoa\n",
      "Processing Record 11 of Set 9 | karabash\n",
      "Processing Record 12 of Set 9 | turayf\n",
      "Processing Record 13 of Set 9 | takhli\n",
      "Processing Record 14 of Set 9 | puerto padre\n",
      "Processing Record 15 of Set 9 | atar\n",
      "Processing Record 16 of Set 9 | kerteh\n",
      "City not found. Skipping...\n",
      "Processing Record 17 of Set 9 | keti bandar\n",
      "Processing Record 18 of Set 9 | monticello\n",
      "Processing Record 19 of Set 9 | aflu\n",
      "City not found. Skipping...\n",
      "Processing Record 20 of Set 9 | keetmanshoop\n",
      "Processing Record 21 of Set 9 | teahupoo\n",
      "Processing Record 22 of Set 9 | zheleznodorozhnyy\n",
      "Processing Record 23 of Set 9 | barra patuca\n",
      "Processing Record 24 of Set 9 | opuwo\n",
      "Processing Record 25 of Set 9 | zhigansk\n",
      "Processing Record 26 of Set 9 | elban\n",
      "Processing Record 27 of Set 9 | malaut\n",
      "Processing Record 28 of Set 9 | svogerslev\n",
      "Processing Record 29 of Set 9 | sioux lookout\n",
      "Processing Record 30 of Set 9 | paamiut\n",
      "Processing Record 31 of Set 9 | kavali\n",
      "Processing Record 32 of Set 9 | pierre\n",
      "Processing Record 33 of Set 9 | wicklow\n",
      "Processing Record 34 of Set 9 | yanan\n",
      "City not found. Skipping...\n",
      "Processing Record 35 of Set 9 | tawnat\n",
      "City not found. Skipping...\n",
      "Processing Record 36 of Set 9 | qasigiannguit\n",
      "Processing Record 37 of Set 9 | talnakh\n",
      "Processing Record 38 of Set 9 | tam ky\n",
      "Processing Record 39 of Set 9 | tura\n",
      "Processing Record 40 of Set 9 | hope\n",
      "Processing Record 41 of Set 9 | les cayes\n",
      "Processing Record 42 of Set 9 | usinsk\n",
      "Processing Record 43 of Set 9 | warmbad\n",
      "Processing Record 44 of Set 9 | terenos\n",
      "Processing Record 45 of Set 9 | constitucion\n",
      "Processing Record 46 of Set 9 | avera\n",
      "Processing Record 47 of Set 9 | udachnyy\n",
      "Processing Record 48 of Set 9 | taltal\n",
      "Processing Record 49 of Set 9 | yar-sale\n",
      "Processing Record 50 of Set 9 | karratha\n",
      "Processing Record 1 of Set 10 | tapaua\n",
      "City not found. Skipping...\n",
      "Processing Record 2 of Set 10 | lorengau\n",
      "Processing Record 3 of Set 10 | vieques\n",
      "Processing Record 4 of Set 10 | nakamura\n",
      "Processing Record 5 of Set 10 | pacific grove\n",
      "Processing Record 6 of Set 10 | petropavlovka\n",
      "Processing Record 7 of Set 10 | richards bay\n",
      "Processing Record 8 of Set 10 | nizwa\n",
      "Processing Record 9 of Set 10 | maghama\n",
      "City not found. Skipping...\n",
      "Processing Record 10 of Set 10 | venice\n",
      "Processing Record 11 of Set 10 | bambanglipuro\n",
      "Processing Record 12 of Set 10 | bolungarvik\n",
      "City not found. Skipping...\n",
      "Processing Record 13 of Set 10 | port said\n",
      "Processing Record 14 of Set 10 | tanda\n",
      "Processing Record 15 of Set 10 | simpang\n",
      "Processing Record 16 of Set 10 | darhan\n",
      "Processing Record 17 of Set 10 | san nicolas\n",
      "Processing Record 18 of Set 10 | skalistyy\n",
      "City not found. Skipping...\n",
      "Processing Record 19 of Set 10 | ust-kuyga\n",
      "Processing Record 20 of Set 10 | rochefort\n",
      "Processing Record 21 of Set 10 | pastos bons\n",
      "Processing Record 22 of Set 10 | mandalgovi\n",
      "Processing Record 23 of Set 10 | mergui\n",
      "City not found. Skipping...\n",
      "Processing Record 24 of Set 10 | paraiso\n",
      "Processing Record 25 of Set 10 | nador\n",
      "Processing Record 26 of Set 10 | bugene\n",
      "Processing Record 27 of Set 10 | tombouctou\n",
      "Processing Record 28 of Set 10 | aswan\n",
      "Processing Record 29 of Set 10 | tabarqah\n",
      "City not found. Skipping...\n",
      "Processing Record 30 of Set 10 | tazovskiy\n",
      "Processing Record 31 of Set 10 | cassilandia\n",
      "Processing Record 32 of Set 10 | almaznyy\n",
      "Processing Record 33 of Set 10 | baghdad\n",
      "Processing Record 34 of Set 10 | beeville\n",
      "Processing Record 35 of Set 10 | berea\n",
      "Processing Record 36 of Set 10 | tayoltita\n",
      "Processing Record 37 of Set 10 | palmer\n",
      "Processing Record 38 of Set 10 | sinnamary\n",
      "Processing Record 39 of Set 10 | kotido\n",
      "Processing Record 40 of Set 10 | zabaykalsk\n",
      "Processing Record 41 of Set 10 | pangody\n",
      "Processing Record 42 of Set 10 | zhanaozen\n",
      "Processing Record 43 of Set 10 | derzhavinsk\n",
      "Processing Record 44 of Set 10 | whitianga\n",
      "Processing Record 45 of Set 10 | prince rupert\n",
      "Processing Record 46 of Set 10 | uvinza\n",
      "Processing Record 47 of Set 10 | kamenka\n",
      "Processing Record 48 of Set 10 | kozhva\n",
      "Processing Record 49 of Set 10 | quatre cocos\n",
      "Processing Record 50 of Set 10 | argelia\n",
      "Processing Record 1 of Set 11 | chumikan\n",
      "Processing Record 2 of Set 11 | mongoumba\n",
      "Processing Record 3 of Set 11 | trat\n",
      "Processing Record 4 of Set 11 | nacala\n",
      "Processing Record 5 of Set 11 | shahreza\n",
      "Processing Record 6 of Set 11 | shiyan\n",
      "Processing Record 7 of Set 11 | guazapa\n",
      "Processing Record 8 of Set 11 | ningan\n",
      "City not found. Skipping...\n",
      "Processing Record 9 of Set 11 | santa marta\n",
      "Processing Record 10 of Set 11 | touros\n",
      "Processing Record 11 of Set 11 | moree\n",
      "Processing Record 12 of Set 11 | along\n",
      "Processing Record 13 of Set 11 | portland\n",
      "Processing Record 14 of Set 11 | cotonou\n",
      "Processing Record 15 of Set 11 | hamilton\n",
      "Processing Record 16 of Set 11 | ornskoldsvik\n",
      "Processing Record 17 of Set 11 | campbell river\n",
      "Processing Record 18 of Set 11 | chapais\n",
      "Processing Record 19 of Set 11 | farafangana\n",
      "Processing Record 20 of Set 11 | ambilobe\n",
      "Processing Record 21 of Set 11 | zeya\n",
      "Processing Record 22 of Set 11 | windsor\n",
      "Processing Record 23 of Set 11 | kambove\n",
      "Processing Record 24 of Set 11 | degtyarsk\n",
      "City not found. Skipping...\n",
      "Processing Record 25 of Set 11 | pirgos\n",
      "Processing Record 26 of Set 11 | presidencia roque saenz pena\n",
      "Processing Record 27 of Set 11 | lavrentiya\n",
      "Processing Record 28 of Set 11 | liku\n",
      "Processing Record 29 of Set 11 | pasighat\n",
      "Processing Record 30 of Set 11 | barcelos\n",
      "Processing Record 31 of Set 11 | limon\n",
      "Processing Record 32 of Set 11 | te anau\n",
      "Processing Record 33 of Set 11 | mangrol\n",
      "Processing Record 34 of Set 11 | saleaula\n",
      "City not found. Skipping...\n",
      "Processing Record 35 of Set 11 | noyabrsk\n",
      "Processing Record 36 of Set 11 | verkhnevilyuysk\n",
      "Processing Record 37 of Set 11 | sawtell\n",
      "Processing Record 38 of Set 11 | itoman\n",
      "Processing Record 39 of Set 11 | boende\n",
      "Processing Record 40 of Set 11 | havoysund\n",
      "Processing Record 41 of Set 11 | namtsy\n",
      "Processing Record 42 of Set 11 | muncar\n",
      "Processing Record 43 of Set 11 | bathsheba\n",
      "Processing Record 44 of Set 11 | lasa\n",
      "Processing Record 45 of Set 11 | port augusta\n",
      "Processing Record 46 of Set 11 | birin\n",
      "Processing Record 47 of Set 11 | pingliang\n",
      "Processing Record 48 of Set 11 | hualmay\n",
      "Processing Record 49 of Set 11 | evensk\n",
      "Processing Record 50 of Set 11 | tonantins\n",
      "Processing Record 1 of Set 12 | phumi samraong\n",
      "City not found. Skipping...\n",
      "Processing Record 2 of Set 12 | ilulissat\n",
      "Processing Record 3 of Set 12 | mount isa\n",
      "Processing Record 4 of Set 12 | soyo\n",
      "Processing Record 5 of Set 12 | ilhabela\n",
      "Processing Record 6 of Set 12 | ventspils\n",
      "Processing Record 7 of Set 12 | ust-nera\n",
      "Processing Record 8 of Set 12 | nishihara\n",
      "Processing Record 9 of Set 12 | davila\n"
     ]
    },
    {
     "name": "stdout",
     "output_type": "stream",
     "text": [
      "Processing Record 10 of Set 12 | dovers\n",
      "Processing Record 11 of Set 12 | asau\n",
      "Processing Record 12 of Set 12 | emerald\n",
      "Processing Record 13 of Set 12 | forbes\n",
      "Processing Record 14 of Set 12 | solone\n",
      "Processing Record 15 of Set 12 | saint-leu\n",
      "Processing Record 16 of Set 12 | grand-santi\n",
      "Processing Record 17 of Set 12 | severnyy\n",
      "Processing Record 18 of Set 12 | mulege\n",
      "Processing Record 19 of Set 12 | wolmaranstad\n",
      "City not found. Skipping...\n",
      "Processing Record 20 of Set 12 | peterhead\n",
      "Processing Record 21 of Set 12 | okakarara\n",
      "Processing Record 22 of Set 12 | brownsville\n",
      "Processing Record 23 of Set 12 | nabire\n",
      "Processing Record 24 of Set 12 | buraydah\n",
      "Processing Record 25 of Set 12 | nanortalik\n",
      "Processing Record 26 of Set 12 | taikang\n",
      "Processing Record 27 of Set 12 | show low\n",
      "Processing Record 28 of Set 12 | divnogorsk\n",
      "Processing Record 29 of Set 12 | champerico\n",
      "Processing Record 30 of Set 12 | hispania\n",
      "Processing Record 31 of Set 12 | adrar\n",
      "Processing Record 32 of Set 12 | oriximina\n",
      "Processing Record 33 of Set 12 | tonbridge\n",
      "Processing Record 34 of Set 12 | kamloops\n",
      "Processing Record 35 of Set 12 | straseni\n",
      "Processing Record 36 of Set 12 | grand centre\n",
      "City not found. Skipping...\n",
      "Processing Record 37 of Set 12 | zamosc\n",
      "Processing Record 38 of Set 12 | tha maka\n",
      "Processing Record 39 of Set 12 | marsabit\n",
      "Processing Record 40 of Set 12 | mudgal\n",
      "Processing Record 41 of Set 12 | comodoro rivadavia\n",
      "Processing Record 42 of Set 12 | sorkjosen\n",
      "Processing Record 43 of Set 12 | belo oriente\n",
      "Processing Record 44 of Set 12 | siirt\n",
      "Processing Record 45 of Set 12 | kargasok\n",
      "Processing Record 46 of Set 12 | southbridge\n",
      "Processing Record 47 of Set 12 | rapid valley\n",
      "Processing Record 48 of Set 12 | miyako\n",
      "Processing Record 49 of Set 12 | chernyshevskiy\n",
      "Processing Record 50 of Set 12 | saint-francois\n",
      "Processing Record 1 of Set 13 | makat\n",
      "Processing Record 2 of Set 13 | kolobrzeg\n",
      "Processing Record 3 of Set 13 | kuala terengganu\n",
      "Processing Record 4 of Set 13 | sur\n",
      "Processing Record 5 of Set 13 | rolim de moura\n",
      "City not found. Skipping...\n",
      "Processing Record 6 of Set 13 | coihaique\n",
      "Processing Record 7 of Set 13 | alofi\n",
      "Processing Record 8 of Set 13 | key largo\n",
      "Processing Record 9 of Set 13 | port blair\n",
      "Processing Record 10 of Set 13 | tukrah\n",
      "-----------------------------\n",
      "Data Retrieval Complete      \n",
      "-----------------------------\n"
     ]
    }
   ],
   "source": [
    "# Create an empty list to hold the weather data.\n",
    "city_data = []\n",
    "# Print the beginning of the logging.\n",
    "print(\"Beginning Data Retrieval     \")\n",
    "print(\"-----------------------------\")\n",
    "\n",
    "# Create counters.\n",
    "record_count = 1\n",
    "set_count = 1\n",
    "    \n",
    "# Loop through all the cities in the list.\n",
    "for i, city in enumerate(cities):\n",
    "\n",
    "    # Group cities in sets of 50 for logging purposes.\n",
    "    if (i % 50 == 0 and i >= 50):\n",
    "        set_count += 1\n",
    "        record_count = 1\n",
    "    # Create endpoint URL with each city.\n",
    "    city_url = url + \"&q=\" + city.replace(\" \",\"+\")\n",
    "\n",
    "    # Log the URL, record, and set numbers and the city.\n",
    "    print(f\"Processing Record {record_count} of Set {set_count} | {city}\")\n",
    "    # Add 1 to the record count.\n",
    "    record_count += 1\n",
    "    \n",
    "# Run an API request for each of the cities.\n",
    "    try:\n",
    "        # Parse the JSON and retrieve data.\n",
    "        city_weather = requests.get(city_url).json()\n",
    "        # Parse out the needed data.\n",
    "        city_lat = city_weather[\"coord\"][\"lat\"]\n",
    "        city_lng = city_weather[\"coord\"][\"lon\"]\n",
    "        city_max_temp = city_weather[\"main\"][\"temp_max\"]\n",
    "        city_humidity = city_weather[\"main\"][\"humidity\"]\n",
    "        city_clouds = city_weather[\"clouds\"][\"all\"]\n",
    "        city_wind = city_weather[\"wind\"][\"speed\"]\n",
    "        city_country = city_weather[\"sys\"][\"country\"]\n",
    "        # Convert the date to ISO standard.\n",
    "        city_date = datetime.utcfromtimestamp(city_weather[\"dt\"]).strftime('%Y-%m-%d %H:%M:%S')\n",
    "        # Append the city information into city_data list.\n",
    "        city_data.append({\"City\": city.title(),\n",
    "                          \"Lat\": city_lat,\n",
    "                          \"Lng\": city_lng,\n",
    "                          \"Max Temp\": city_max_temp,\n",
    "                          \"Humidity\": city_humidity,\n",
    "                          \"Cloudiness\": city_clouds,\n",
    "                          \"Wind Speed\": city_wind,\n",
    "                          \"Country\": city_country,\n",
    "                          \"Date\": city_date})\n",
    "\n",
    "# If an error is experienced, skip the city.\n",
    "    except:\n",
    "        print(\"City not found. Skipping...\")\n",
    "        pass\n",
    "\n",
    "# Indicate that Data Loading is complete.\n",
    "print(\"-----------------------------\")\n",
    "print(\"Data Retrieval Complete      \")\n",
    "print(\"-----------------------------\")"
   ]
  },
  {
   "cell_type": "code",
   "execution_count": 44,
   "metadata": {},
   "outputs": [
    {
     "data": {
      "text/html": [
       "<div>\n",
       "<style scoped>\n",
       "    .dataframe tbody tr th:only-of-type {\n",
       "        vertical-align: middle;\n",
       "    }\n",
       "\n",
       "    .dataframe tbody tr th {\n",
       "        vertical-align: top;\n",
       "    }\n",
       "\n",
       "    .dataframe thead th {\n",
       "        text-align: right;\n",
       "    }\n",
       "</style>\n",
       "<table border=\"1\" class=\"dataframe\">\n",
       "  <thead>\n",
       "    <tr style=\"text-align: right;\">\n",
       "      <th></th>\n",
       "      <th>City</th>\n",
       "      <th>Lat</th>\n",
       "      <th>Lng</th>\n",
       "      <th>Max Temp</th>\n",
       "      <th>Humidity</th>\n",
       "      <th>Cloudiness</th>\n",
       "      <th>Wind Speed</th>\n",
       "      <th>Country</th>\n",
       "      <th>Date</th>\n",
       "    </tr>\n",
       "  </thead>\n",
       "  <tbody>\n",
       "    <tr>\n",
       "      <th>0</th>\n",
       "      <td>Arlington</td>\n",
       "      <td>32.74</td>\n",
       "      <td>-97.11</td>\n",
       "      <td>64.40</td>\n",
       "      <td>31</td>\n",
       "      <td>1</td>\n",
       "      <td>3.36</td>\n",
       "      <td>US</td>\n",
       "      <td>2020-10-30 18:16:08</td>\n",
       "    </tr>\n",
       "    <tr>\n",
       "      <th>1</th>\n",
       "      <td>Upernavik</td>\n",
       "      <td>72.79</td>\n",
       "      <td>-56.15</td>\n",
       "      <td>21.15</td>\n",
       "      <td>96</td>\n",
       "      <td>99</td>\n",
       "      <td>4.14</td>\n",
       "      <td>GL</td>\n",
       "      <td>2020-10-30 18:20:00</td>\n",
       "    </tr>\n",
       "    <tr>\n",
       "      <th>2</th>\n",
       "      <td>Port Lincoln</td>\n",
       "      <td>-34.73</td>\n",
       "      <td>135.87</td>\n",
       "      <td>56.34</td>\n",
       "      <td>84</td>\n",
       "      <td>93</td>\n",
       "      <td>11.56</td>\n",
       "      <td>AU</td>\n",
       "      <td>2020-10-30 18:20:01</td>\n",
       "    </tr>\n",
       "    <tr>\n",
       "      <th>3</th>\n",
       "      <td>Jamestown</td>\n",
       "      <td>42.10</td>\n",
       "      <td>-79.24</td>\n",
       "      <td>37.99</td>\n",
       "      <td>93</td>\n",
       "      <td>90</td>\n",
       "      <td>5.82</td>\n",
       "      <td>US</td>\n",
       "      <td>2020-10-30 18:16:31</td>\n",
       "    </tr>\n",
       "    <tr>\n",
       "      <th>4</th>\n",
       "      <td>Hermanus</td>\n",
       "      <td>-34.42</td>\n",
       "      <td>19.23</td>\n",
       "      <td>54.00</td>\n",
       "      <td>76</td>\n",
       "      <td>0</td>\n",
       "      <td>11.97</td>\n",
       "      <td>ZA</td>\n",
       "      <td>2020-10-30 18:20:01</td>\n",
       "    </tr>\n",
       "    <tr>\n",
       "      <th>5</th>\n",
       "      <td>Ushuaia</td>\n",
       "      <td>-54.80</td>\n",
       "      <td>-68.30</td>\n",
       "      <td>50.00</td>\n",
       "      <td>71</td>\n",
       "      <td>75</td>\n",
       "      <td>24.16</td>\n",
       "      <td>AR</td>\n",
       "      <td>2020-10-30 18:20:01</td>\n",
       "    </tr>\n",
       "    <tr>\n",
       "      <th>6</th>\n",
       "      <td>Hobart</td>\n",
       "      <td>-42.88</td>\n",
       "      <td>147.33</td>\n",
       "      <td>42.80</td>\n",
       "      <td>93</td>\n",
       "      <td>40</td>\n",
       "      <td>3.36</td>\n",
       "      <td>AU</td>\n",
       "      <td>2020-10-30 18:17:02</td>\n",
       "    </tr>\n",
       "    <tr>\n",
       "      <th>7</th>\n",
       "      <td>Hasaki</td>\n",
       "      <td>35.73</td>\n",
       "      <td>140.83</td>\n",
       "      <td>44.60</td>\n",
       "      <td>81</td>\n",
       "      <td>0</td>\n",
       "      <td>4.70</td>\n",
       "      <td>JP</td>\n",
       "      <td>2020-10-30 18:20:02</td>\n",
       "    </tr>\n",
       "    <tr>\n",
       "      <th>8</th>\n",
       "      <td>Rikitea</td>\n",
       "      <td>-23.12</td>\n",
       "      <td>-134.97</td>\n",
       "      <td>75.49</td>\n",
       "      <td>69</td>\n",
       "      <td>62</td>\n",
       "      <td>8.01</td>\n",
       "      <td>PF</td>\n",
       "      <td>2020-10-30 18:20:03</td>\n",
       "    </tr>\n",
       "    <tr>\n",
       "      <th>9</th>\n",
       "      <td>Mahebourg</td>\n",
       "      <td>-20.41</td>\n",
       "      <td>57.70</td>\n",
       "      <td>69.80</td>\n",
       "      <td>52</td>\n",
       "      <td>40</td>\n",
       "      <td>13.87</td>\n",
       "      <td>MU</td>\n",
       "      <td>2020-10-30 18:20:03</td>\n",
       "    </tr>\n",
       "  </tbody>\n",
       "</table>\n",
       "</div>"
      ],
      "text/plain": [
       "           City    Lat     Lng  Max Temp  Humidity  Cloudiness  Wind Speed  \\\n",
       "0     Arlington  32.74  -97.11     64.40        31           1        3.36   \n",
       "1     Upernavik  72.79  -56.15     21.15        96          99        4.14   \n",
       "2  Port Lincoln -34.73  135.87     56.34        84          93       11.56   \n",
       "3     Jamestown  42.10  -79.24     37.99        93          90        5.82   \n",
       "4      Hermanus -34.42   19.23     54.00        76           0       11.97   \n",
       "5       Ushuaia -54.80  -68.30     50.00        71          75       24.16   \n",
       "6        Hobart -42.88  147.33     42.80        93          40        3.36   \n",
       "7        Hasaki  35.73  140.83     44.60        81           0        4.70   \n",
       "8       Rikitea -23.12 -134.97     75.49        69          62        8.01   \n",
       "9     Mahebourg -20.41   57.70     69.80        52          40       13.87   \n",
       "\n",
       "  Country                 Date  \n",
       "0      US  2020-10-30 18:16:08  \n",
       "1      GL  2020-10-30 18:20:00  \n",
       "2      AU  2020-10-30 18:20:01  \n",
       "3      US  2020-10-30 18:16:31  \n",
       "4      ZA  2020-10-30 18:20:01  \n",
       "5      AR  2020-10-30 18:20:01  \n",
       "6      AU  2020-10-30 18:17:02  \n",
       "7      JP  2020-10-30 18:20:02  \n",
       "8      PF  2020-10-30 18:20:03  \n",
       "9      MU  2020-10-30 18:20:03  "
      ]
     },
     "execution_count": 44,
     "metadata": {},
     "output_type": "execute_result"
    }
   ],
   "source": [
    "# Convert the array of dictionaries to a Pandas DataFrame.\n",
    "city_data_df = pd.DataFrame(city_data)\n",
    "city_data_df.head(10)"
   ]
  },
  {
   "cell_type": "code",
   "execution_count": 45,
   "metadata": {},
   "outputs": [],
   "source": [
    "new_column_order = [\"City\", \"Country\", \"Date\", \"Lat\", \"Lng\", \"Max Temp\", \"Humidity\", \"Cloudiness\", \"Wind Speed\"]"
   ]
  },
  {
   "cell_type": "code",
   "execution_count": 46,
   "metadata": {},
   "outputs": [
    {
     "data": {
      "text/html": [
       "<div>\n",
       "<style scoped>\n",
       "    .dataframe tbody tr th:only-of-type {\n",
       "        vertical-align: middle;\n",
       "    }\n",
       "\n",
       "    .dataframe tbody tr th {\n",
       "        vertical-align: top;\n",
       "    }\n",
       "\n",
       "    .dataframe thead th {\n",
       "        text-align: right;\n",
       "    }\n",
       "</style>\n",
       "<table border=\"1\" class=\"dataframe\">\n",
       "  <thead>\n",
       "    <tr style=\"text-align: right;\">\n",
       "      <th></th>\n",
       "      <th>City</th>\n",
       "      <th>Country</th>\n",
       "      <th>Date</th>\n",
       "      <th>Lat</th>\n",
       "      <th>Lng</th>\n",
       "      <th>Max Temp</th>\n",
       "      <th>Humidity</th>\n",
       "      <th>Cloudiness</th>\n",
       "      <th>Wind Speed</th>\n",
       "    </tr>\n",
       "  </thead>\n",
       "  <tbody>\n",
       "    <tr>\n",
       "      <th>0</th>\n",
       "      <td>Arlington</td>\n",
       "      <td>US</td>\n",
       "      <td>2020-10-30 18:16:08</td>\n",
       "      <td>32.74</td>\n",
       "      <td>-97.11</td>\n",
       "      <td>64.40</td>\n",
       "      <td>31</td>\n",
       "      <td>1</td>\n",
       "      <td>3.36</td>\n",
       "    </tr>\n",
       "    <tr>\n",
       "      <th>1</th>\n",
       "      <td>Upernavik</td>\n",
       "      <td>GL</td>\n",
       "      <td>2020-10-30 18:20:00</td>\n",
       "      <td>72.79</td>\n",
       "      <td>-56.15</td>\n",
       "      <td>21.15</td>\n",
       "      <td>96</td>\n",
       "      <td>99</td>\n",
       "      <td>4.14</td>\n",
       "    </tr>\n",
       "    <tr>\n",
       "      <th>2</th>\n",
       "      <td>Port Lincoln</td>\n",
       "      <td>AU</td>\n",
       "      <td>2020-10-30 18:20:01</td>\n",
       "      <td>-34.73</td>\n",
       "      <td>135.87</td>\n",
       "      <td>56.34</td>\n",
       "      <td>84</td>\n",
       "      <td>93</td>\n",
       "      <td>11.56</td>\n",
       "    </tr>\n",
       "    <tr>\n",
       "      <th>3</th>\n",
       "      <td>Jamestown</td>\n",
       "      <td>US</td>\n",
       "      <td>2020-10-30 18:16:31</td>\n",
       "      <td>42.10</td>\n",
       "      <td>-79.24</td>\n",
       "      <td>37.99</td>\n",
       "      <td>93</td>\n",
       "      <td>90</td>\n",
       "      <td>5.82</td>\n",
       "    </tr>\n",
       "    <tr>\n",
       "      <th>4</th>\n",
       "      <td>Hermanus</td>\n",
       "      <td>ZA</td>\n",
       "      <td>2020-10-30 18:20:01</td>\n",
       "      <td>-34.42</td>\n",
       "      <td>19.23</td>\n",
       "      <td>54.00</td>\n",
       "      <td>76</td>\n",
       "      <td>0</td>\n",
       "      <td>11.97</td>\n",
       "    </tr>\n",
       "    <tr>\n",
       "      <th>5</th>\n",
       "      <td>Ushuaia</td>\n",
       "      <td>AR</td>\n",
       "      <td>2020-10-30 18:20:01</td>\n",
       "      <td>-54.80</td>\n",
       "      <td>-68.30</td>\n",
       "      <td>50.00</td>\n",
       "      <td>71</td>\n",
       "      <td>75</td>\n",
       "      <td>24.16</td>\n",
       "    </tr>\n",
       "    <tr>\n",
       "      <th>6</th>\n",
       "      <td>Hobart</td>\n",
       "      <td>AU</td>\n",
       "      <td>2020-10-30 18:17:02</td>\n",
       "      <td>-42.88</td>\n",
       "      <td>147.33</td>\n",
       "      <td>42.80</td>\n",
       "      <td>93</td>\n",
       "      <td>40</td>\n",
       "      <td>3.36</td>\n",
       "    </tr>\n",
       "    <tr>\n",
       "      <th>7</th>\n",
       "      <td>Hasaki</td>\n",
       "      <td>JP</td>\n",
       "      <td>2020-10-30 18:20:02</td>\n",
       "      <td>35.73</td>\n",
       "      <td>140.83</td>\n",
       "      <td>44.60</td>\n",
       "      <td>81</td>\n",
       "      <td>0</td>\n",
       "      <td>4.70</td>\n",
       "    </tr>\n",
       "    <tr>\n",
       "      <th>8</th>\n",
       "      <td>Rikitea</td>\n",
       "      <td>PF</td>\n",
       "      <td>2020-10-30 18:20:03</td>\n",
       "      <td>-23.12</td>\n",
       "      <td>-134.97</td>\n",
       "      <td>75.49</td>\n",
       "      <td>69</td>\n",
       "      <td>62</td>\n",
       "      <td>8.01</td>\n",
       "    </tr>\n",
       "    <tr>\n",
       "      <th>9</th>\n",
       "      <td>Mahebourg</td>\n",
       "      <td>MU</td>\n",
       "      <td>2020-10-30 18:20:03</td>\n",
       "      <td>-20.41</td>\n",
       "      <td>57.70</td>\n",
       "      <td>69.80</td>\n",
       "      <td>52</td>\n",
       "      <td>40</td>\n",
       "      <td>13.87</td>\n",
       "    </tr>\n",
       "  </tbody>\n",
       "</table>\n",
       "</div>"
      ],
      "text/plain": [
       "           City Country                 Date    Lat     Lng  Max Temp  \\\n",
       "0     Arlington      US  2020-10-30 18:16:08  32.74  -97.11     64.40   \n",
       "1     Upernavik      GL  2020-10-30 18:20:00  72.79  -56.15     21.15   \n",
       "2  Port Lincoln      AU  2020-10-30 18:20:01 -34.73  135.87     56.34   \n",
       "3     Jamestown      US  2020-10-30 18:16:31  42.10  -79.24     37.99   \n",
       "4      Hermanus      ZA  2020-10-30 18:20:01 -34.42   19.23     54.00   \n",
       "5       Ushuaia      AR  2020-10-30 18:20:01 -54.80  -68.30     50.00   \n",
       "6        Hobart      AU  2020-10-30 18:17:02 -42.88  147.33     42.80   \n",
       "7        Hasaki      JP  2020-10-30 18:20:02  35.73  140.83     44.60   \n",
       "8       Rikitea      PF  2020-10-30 18:20:03 -23.12 -134.97     75.49   \n",
       "9     Mahebourg      MU  2020-10-30 18:20:03 -20.41   57.70     69.80   \n",
       "\n",
       "   Humidity  Cloudiness  Wind Speed  \n",
       "0        31           1        3.36  \n",
       "1        96          99        4.14  \n",
       "2        84          93       11.56  \n",
       "3        93          90        5.82  \n",
       "4        76           0       11.97  \n",
       "5        71          75       24.16  \n",
       "6        93          40        3.36  \n",
       "7        81           0        4.70  \n",
       "8        69          62        8.01  \n",
       "9        52          40       13.87  "
      ]
     },
     "execution_count": 46,
     "metadata": {},
     "output_type": "execute_result"
    }
   ],
   "source": [
    "city_data_df=city_data_df[new_column_order]\n",
    "city_data_df.head(10)"
   ]
  },
  {
   "cell_type": "code",
   "execution_count": 47,
   "metadata": {},
   "outputs": [],
   "source": [
    "# Create the output file (CSV).\n",
    "output_data_file = \"weather_data/cities.csv\"\n",
    "# Export the City_Data into a CSV.\n",
    "city_data_df.to_csv(output_data_file, index_label=\"City_ID\")"
   ]
  },
  {
   "cell_type": "code",
   "execution_count": 48,
   "metadata": {},
   "outputs": [],
   "source": [
    "# Extract relevant fields from the DataFrame for plotting.\n",
    "lats = city_data_df[\"Lat\"]\n",
    "max_temps = city_data_df[\"Max Temp\"]\n",
    "humidity = city_data_df[\"Humidity\"]\n",
    "cloudiness = city_data_df[\"Cloudiness\"]\n",
    "wind_speed = city_data_df[\"Wind Speed\"]"
   ]
  },
  {
   "cell_type": "code",
   "execution_count": 49,
   "metadata": {},
   "outputs": [
    {
     "data": {
      "text/plain": [
       "1604087895.259933"
      ]
     },
     "execution_count": 49,
     "metadata": {},
     "output_type": "execute_result"
    }
   ],
   "source": [
    "# Import the time module.\n",
    "import time\n",
    "# Get today's date in seconds.\n",
    "today = time.time()\n",
    "today"
   ]
  },
  {
   "cell_type": "code",
   "execution_count": 50,
   "metadata": {},
   "outputs": [
    {
     "data": {
      "text/plain": [
       "'10/30/20'"
      ]
     },
     "execution_count": 50,
     "metadata": {},
     "output_type": "execute_result"
    }
   ],
   "source": [
    "today=time.strftime(\"%x\")\n",
    "today"
   ]
  },
  {
   "cell_type": "code",
   "execution_count": 51,
   "metadata": {},
   "outputs": [
    {
     "data": {
      "image/png": "[encoded data removed]",
      "text/plain": [
       "<Figure size 432x288 with 1 Axes>"
      ]
     },
     "metadata": {
      "needs_background": "light"
     },
     "output_type": "display_data"
    }
   ],
   "source": [
    "# Build the scatter plot for latitude vs. max temperature.\n",
    "plt.scatter(lats,\n",
    "            max_temps,\n",
    "            edgecolor=\"black\", linewidths=1, marker=\"o\",\n",
    "            alpha=0.8, label=\"Cities\")\n",
    "\n",
    "# Incorporate the other graph properties.\n",
    "plt.title(f\"City Latitude vs. Max Temperature \"+ time.strftime(\"%x\"))\n",
    "plt.ylabel(\"Max Temperature (F)\")\n",
    "plt.xlabel(\"Latitude\")\n",
    "plt.grid(True)\n",
    "\n",
    "# Save the figure.\n",
    "plt.savefig(\"weather_data/Fig1.png\")\n",
    "\n",
    "# Show plot.\n",
    "plt.show()"
   ]
  },
  {
   "cell_type": "code",
   "execution_count": 52,
   "metadata": {},
   "outputs": [
    {
     "data": {
      "image/png": "[encoded data removed]",
      "text/plain": [
       "<Figure size 432x288 with 1 Axes>"
      ]
     },
     "metadata": {
      "needs_background": "light"
     },
     "output_type": "display_data"
    }
   ],
   "source": [
    "# Build the scatter plots for latitude vs. humidity.\n",
    "plt.scatter(lats,\n",
    "            humidity,\n",
    "            edgecolor=\"black\", linewidths=1, marker=\"o\",\n",
    "            alpha=0.8, label=\"Cities\")\n",
    "\n",
    "# Incorporate the other graph properties.\n",
    "plt.title(f\"City Latitude vs. Humidity \"+ time.strftime(\"%x\"))\n",
    "plt.ylabel(\"Humidity (%)\")\n",
    "plt.xlabel(\"Latitude\")\n",
    "plt.grid(True)\n",
    "# Save the figure.\n",
    "plt.savefig(\"weather_data/Fig2.png\")\n",
    "# Show plot.\n",
    "plt.show()"
   ]
  },
  {
   "cell_type": "code",
   "execution_count": 53,
   "metadata": {},
   "outputs": [
    {
     "data": {
      "image/png": "[encoded data removed]",
      "text/plain": [
       "<Figure size 432x288 with 1 Axes>"
      ]
     },
     "metadata": {
      "needs_background": "light"
     },
     "output_type": "display_data"
    }
   ],
   "source": [
    "# Build the scatter plots for latitude vs. cloudiness.\n",
    "plt.scatter(lats,\n",
    "            cloudiness,\n",
    "            edgecolor=\"black\", linewidths=1, marker=\"o\",\n",
    "            alpha=0.8, label=\"Cities\")\n",
    "\n",
    "# Incorporate the other graph properties.\n",
    "plt.title(f\"City Latitude vs. Cloudiness (%) \"+ time.strftime(\"%x\"))\n",
    "plt.ylabel(\"Cloudiness (%)\")\n",
    "plt.xlabel(\"Latitude\")\n",
    "plt.grid(True)\n",
    "# Save the figure.\n",
    "plt.savefig(\"weather_data/Fig3.png\")\n",
    "# Show plot.\n",
    "plt.show()"
   ]
  },
  {
   "cell_type": "code",
   "execution_count": 54,
   "metadata": {},
   "outputs": [
    {
     "data": {
      "image/png": "[encoded data removed]",
      "text/plain": [
       "<Figure size 432x288 with 1 Axes>"
      ]
     },
     "metadata": {
      "needs_background": "light"
     },
     "output_type": "display_data"
    }
   ],
   "source": [
    "# Build the scatter plots for latitude vs. wind speed.\n",
    "plt.scatter(lats,\n",
    "            wind_speed,\n",
    "            edgecolor=\"black\", linewidths=1, marker=\"o\",\n",
    "            alpha=0.8, label=\"Cities\")\n",
    "\n",
    "# Incorporate the other graph properties.\n",
    "plt.title(f\"City Latitude vs. Wind Speed \"+ time.strftime(\"%x\"))\n",
    "plt.ylabel(\"Wind Speed (mph)\")\n",
    "plt.xlabel(\"Latitude\")\n",
    "plt.grid(True)\n",
    "# Save the figure.\n",
    "plt.savefig(\"weather_data/Fig4.png\")\n",
    "# Show plot.\n",
    "plt.show()"
   ]
  },
  {
   "cell_type": "code",
   "execution_count": 64,
   "metadata": {},
   "outputs": [],
   "source": [
    "# Import linear regression from the SciPy stats module.\n",
    "from scipy.stats import linregress"
   ]
  },
  {
   "cell_type": "code",
   "execution_count": 65,
   "metadata": {},
   "outputs": [],
   "source": [
    "# Create a function to create perform linear regression on the weather data\n",
    "# and plot a regression line and the equation with the data.\n",
    "def plot_linear_regression(x_values, y_values, title, y_label, text_coordinates):\n",
    "    # Run regression on hemisphere weather data.\n",
    "    (slope, intercept, r_value, p_value, std_err) = linregress(x_values, y_values)\n",
    "\n",
    "    # Calculate the regression line \"y values\" from the slope and intercept.\n",
    "    regress_values = x_values * slope + intercept\n",
    "    # Get the equation of the line.\n",
    "    line_eq = \"y = \" + str(round(slope,2)) + \"x + \" + str(round(intercept,2))\n",
    "    # Create a scatter plot and plot the regression line.\n",
    "    plt.scatter(x_values,y_values)\n",
    "    plt.plot(x_values,regress_values,\"r\")\n",
    "    # Annotate the text for the line equation.\n",
    "    plt.annotate(line_eq, text_coordinates, fontsize=15, color=\"red\")\n",
    "    plt.xlabel('Latitude')\n",
    "    plt.ylabel(y_label)\n",
    "    plt.show()"
   ]
  },
  {
   "cell_type": "code",
   "execution_count": 66,
   "metadata": {},
   "outputs": [
    {
     "data": {
      "text/plain": [
       "City                    Busselton\n",
       "Country                        AU\n",
       "Date          2020-10-30 18:20:05\n",
       "Lat                        -33.65\n",
       "Lng                        115.33\n",
       "Max Temp                    62.01\n",
       "Humidity                       57\n",
       "Cloudiness                     15\n",
       "Wind Speed                   3.74\n",
       "Name: 13, dtype: object"
      ]
     },
     "execution_count": 66,
     "metadata": {},
     "output_type": "execute_result"
    }
   ],
   "source": [
    "index13=city_data_df.loc[13]\n",
    "index13"
   ]
  },
  {
   "cell_type": "code",
   "execution_count": 67,
   "metadata": {},
   "outputs": [
    {
     "data": {
      "text/plain": [
       "0       True\n",
       "1       True\n",
       "2      False\n",
       "3       True\n",
       "4      False\n",
       "       ...  \n",
       "546    False\n",
       "547    False\n",
       "548     True\n",
       "549     True\n",
       "550     True\n",
       "Name: Lat, Length: 551, dtype: bool"
      ]
     },
     "execution_count": 67,
     "metadata": {},
     "output_type": "execute_result"
    }
   ],
   "source": [
    "city_data_df[\"Lat\"] >= 0"
   ]
  },
  {
   "cell_type": "code",
   "execution_count": 68,
   "metadata": {},
   "outputs": [
    {
     "data": {
      "text/html": [
       "<div>\n",
       "<style scoped>\n",
       "    .dataframe tbody tr th:only-of-type {\n",
       "        vertical-align: middle;\n",
       "    }\n",
       "\n",
       "    .dataframe tbody tr th {\n",
       "        vertical-align: top;\n",
       "    }\n",
       "\n",
       "    .dataframe thead th {\n",
       "        text-align: right;\n",
       "    }\n",
       "</style>\n",
       "<table border=\"1\" class=\"dataframe\">\n",
       "  <thead>\n",
       "    <tr style=\"text-align: right;\">\n",
       "      <th></th>\n",
       "      <th>City</th>\n",
       "      <th>Country</th>\n",
       "      <th>Date</th>\n",
       "      <th>Lat</th>\n",
       "      <th>Lng</th>\n",
       "      <th>Max Temp</th>\n",
       "      <th>Humidity</th>\n",
       "      <th>Cloudiness</th>\n",
       "      <th>Wind Speed</th>\n",
       "    </tr>\n",
       "  </thead>\n",
       "  <tbody>\n",
       "    <tr>\n",
       "      <th>0</th>\n",
       "      <td>Arlington</td>\n",
       "      <td>US</td>\n",
       "      <td>2020-10-30 18:16:08</td>\n",
       "      <td>32.74</td>\n",
       "      <td>-97.11</td>\n",
       "      <td>64.40</td>\n",
       "      <td>31</td>\n",
       "      <td>1</td>\n",
       "      <td>3.36</td>\n",
       "    </tr>\n",
       "    <tr>\n",
       "      <th>1</th>\n",
       "      <td>Upernavik</td>\n",
       "      <td>GL</td>\n",
       "      <td>2020-10-30 18:20:00</td>\n",
       "      <td>72.79</td>\n",
       "      <td>-56.15</td>\n",
       "      <td>21.15</td>\n",
       "      <td>96</td>\n",
       "      <td>99</td>\n",
       "      <td>4.14</td>\n",
       "    </tr>\n",
       "    <tr>\n",
       "      <th>2</th>\n",
       "      <td>Port Lincoln</td>\n",
       "      <td>AU</td>\n",
       "      <td>2020-10-30 18:20:01</td>\n",
       "      <td>-34.73</td>\n",
       "      <td>135.87</td>\n",
       "      <td>56.34</td>\n",
       "      <td>84</td>\n",
       "      <td>93</td>\n",
       "      <td>11.56</td>\n",
       "    </tr>\n",
       "    <tr>\n",
       "      <th>3</th>\n",
       "      <td>Jamestown</td>\n",
       "      <td>US</td>\n",
       "      <td>2020-10-30 18:16:31</td>\n",
       "      <td>42.10</td>\n",
       "      <td>-79.24</td>\n",
       "      <td>37.99</td>\n",
       "      <td>93</td>\n",
       "      <td>90</td>\n",
       "      <td>5.82</td>\n",
       "    </tr>\n",
       "    <tr>\n",
       "      <th>4</th>\n",
       "      <td>Hermanus</td>\n",
       "      <td>ZA</td>\n",
       "      <td>2020-10-30 18:20:01</td>\n",
       "      <td>-34.42</td>\n",
       "      <td>19.23</td>\n",
       "      <td>54.00</td>\n",
       "      <td>76</td>\n",
       "      <td>0</td>\n",
       "      <td>11.97</td>\n",
       "    </tr>\n",
       "  </tbody>\n",
       "</table>\n",
       "</div>"
      ],
      "text/plain": [
       "           City Country                 Date    Lat     Lng  Max Temp  \\\n",
       "0     Arlington      US  2020-10-30 18:16:08  32.74  -97.11     64.40   \n",
       "1     Upernavik      GL  2020-10-30 18:20:00  72.79  -56.15     21.15   \n",
       "2  Port Lincoln      AU  2020-10-30 18:20:01 -34.73  135.87     56.34   \n",
       "3     Jamestown      US  2020-10-30 18:16:31  42.10  -79.24     37.99   \n",
       "4      Hermanus      ZA  2020-10-30 18:20:01 -34.42   19.23     54.00   \n",
       "\n",
       "   Humidity  Cloudiness  Wind Speed  \n",
       "0        31           1        3.36  \n",
       "1        96          99        4.14  \n",
       "2        84          93       11.56  \n",
       "3        93          90        5.82  \n",
       "4        76           0       11.97  "
      ]
     },
     "execution_count": 68,
     "metadata": {},
     "output_type": "execute_result"
    }
   ],
   "source": [
    "city_data_df.head()"
   ]
  },
  {
   "cell_type": "code",
   "execution_count": 69,
   "metadata": {},
   "outputs": [],
   "source": [
    "# Create Northern and Southern Hemisphere DataFrames.\n",
    "northern_hemi_df = city_data_df.loc[(city_data_df[\"Lat\"] >= 0)]\n",
    "southern_hemi_df = city_data_df.loc[(city_data_df[\"Lat\"] < 0)]"
   ]
  },
  {
   "cell_type": "code",
   "execution_count": 73,
   "metadata": {},
   "outputs": [
    {
     "data": {
      "image/png": "[encoded data removed]",
      "text/plain": [
       "<Figure size 432x288 with 1 Axes>"
      ]
     },
     "metadata": {
      "needs_background": "light"
     },
     "output_type": "display_data"
    }
   ],
   "source": [
    "# Linear regression on the Northern Hemisphere\n",
    "x_values = northern_hemi_df[\"Lat\"]\n",
    "y_values = northern_hemi_df[\"Max Temp\"]\n",
    "# Call the function.\n",
    "plot_linear_regression(x_values, y_values,\n",
    "                       'Linear Regression on the Northern Hemisphere for Maximum Temperature', 'Max Temp',(10,40))\n"
   ]
  },
  {
   "cell_type": "code",
   "execution_count": 75,
   "metadata": {},
   "outputs": [
    {
     "data": {
      "image/png": "[encoded data removed]",
      "text/plain": [
       "<Figure size 432x288 with 1 Axes>"
      ]
     },
     "metadata": {
      "needs_background": "light"
     },
     "output_type": "display_data"
    }
   ],
   "source": [
    "# Linear regression on the Southern Hemisphere\n",
    "x_values = southern_hemi_df[\"Lat\"]\n",
    "y_values = southern_hemi_df[\"Max Temp\"]\n",
    "# Call the function.\n",
    "plot_linear_regression(x_values, y_values,\n",
    "                       'Linear Regression on the Southern Hemisphere for Maximum Temperature', 'Max Temp',(-50,90))"
   ]
  },
  {
   "cell_type": "code",
   "execution_count": 77,
   "metadata": {},
   "outputs": [
    {
     "data": {
      "image/png": "[encoded data removed]",
      "text/plain": [
       "<Figure size 432x288 with 1 Axes>"
      ]
     },
     "metadata": {
      "needs_background": "light"
     },
     "output_type": "display_data"
    }
   ],
   "source": [
    "# Linear regression on the Northern Hemisphere\n",
    "x_values = northern_hemi_df[\"Lat\"]\n",
    "y_values = northern_hemi_df[\"Humidity\"]\n",
    "# Call the function.\n",
    "plot_linear_regression(x_values, y_values,\n",
    "                       'Linear Regression on the Northern Hemisphere for % Humidity', '% Humidity',(40,10))"
   ]
  },
  {
   "cell_type": "code",
   "execution_count": 78,
   "metadata": {},
   "outputs": [
    {
     "data": {
      "image/png": "[encoded data removed]",
      "text/plain": [
       "<Figure size 432x288 with 1 Axes>"
      ]
     },
     "metadata": {
      "needs_background": "light"
     },
     "output_type": "display_data"
    }
   ],
   "source": [
    "# Linear regression on the Southern Hemisphere\n",
    "x_values = southern_hemi_df[\"Lat\"]\n",
    "y_values = southern_hemi_df[\"Humidity\"]\n",
    "# Call the function.\n",
    "plot_linear_regression(x_values, y_values,\n",
    "                       'Linear Regression on the Southern Hemisphere for % Humidity', '% Humidity',(-50,15))"
   ]
  },
  {
   "cell_type": "code",
   "execution_count": 79,
   "metadata": {},
   "outputs": [
    {
     "data": {
      "image/png": "[encoded data removed]",
      "text/plain": [
       "<Figure size 432x288 with 1 Axes>"
      ]
     },
     "metadata": {
      "needs_background": "light"
     },
     "output_type": "display_data"
    }
   ],
   "source": [
    "# Linear regression on the Northern Hemisphere\n",
    "x_values = northern_hemi_df[\"Lat\"]\n",
    "y_values = northern_hemi_df[\"Cloudiness\"]\n",
    "# Call the function.\n",
    "plot_linear_regression(x_values, y_values,\n",
    "                       'Linear Regression on the Northern Hemisphere for %Cloudiness', '% Cloudiness',(40,10))"
   ]
  },
  {
   "cell_type": "code",
   "execution_count": 80,
   "metadata": {},
   "outputs": [
    {
     "data": {
      "image/png": "[encoded data removed]",
      "text/plain": [
       "<Figure size 432x288 with 1 Axes>"
      ]
     },
     "metadata": {
      "needs_background": "light"
     },
     "output_type": "display_data"
    }
   ],
   "source": [
    "# Linear regression on the Southern Hemisphere\n",
    "x_values = southern_hemi_df[\"Lat\"]\n",
    "y_values = southern_hemi_df[\"Cloudiness\"]\n",
    "# Call the function.\n",
    "plot_linear_regression(x_values, y_values,\n",
    "                       'Linear Regression on the Southern Hemisphere for % Cloudiness', '% Cloudiness',(-50,60))"
   ]
  },
  {
   "cell_type": "code",
   "execution_count": 82,
   "metadata": {},
   "outputs": [
    {
     "data": {
      "image/png": "[encoded data removed]",
      "text/plain": [
       "<Figure size 432x288 with 1 Axes>"
      ]
     },
     "metadata": {
      "needs_background": "light"
     },
     "output_type": "display_data"
    }
   ],
   "source": [
    "# Linear regression on the Northern Hemisphere\n",
    "x_values = northern_hemi_df[\"Lat\"]\n",
    "y_values = northern_hemi_df[\"Wind Speed\"]\n",
    "# Call the function.\n",
    "plot_linear_regression(x_values, y_values,\n",
    "                       'Linear Regression on the Northern Hemisphere for Wind Speed', 'Wind Speed',(40,35))"
   ]
  },
  {
   "cell_type": "code",
   "execution_count": 83,
   "metadata": {},
   "outputs": [
    {
     "data": {
      "image/png": "[encoded data removed]",
      "text/plain": [
       "<Figure size 432x288 with 1 Axes>"
      ]
     },
     "metadata": {
      "needs_background": "light"
     },
     "output_type": "display_data"
    }
   ],
   "source": [
    "# Linear regression on the Southern Hemisphere\n",
    "x_values = southern_hemi_df[\"Lat\"]\n",
    "y_values = southern_hemi_df[\"Wind Speed\"]\n",
    "# Call the function.\n",
    "plot_linear_regression(x_values, y_values,\n",
    "                       'Linear Regression on the Southern Hemisphere for Wind Speed', 'Wind Speed',(-50,35))"
   ]
  },
  {
   "cell_type": "code",
   "execution_count": null,
   "metadata": {},
   "outputs": [],
   "source": []
  }
 ],
 "metadata": {
  "kernelspec": {
   "display_name": "PythonData",
   "language": "python",
   "name": "pythondata"
  },
  "language_info": {
   "codemirror_mode": {
    "name": "ipython",
    "version": 3
   },
   "file_extension": ".py",
   "mimetype": "text/x-python",
   "name": "python",
   "nbconvert_exporter": "python",
   "pygments_lexer": "ipython3",
   "version": "3.7.7"
  }
 },
 "nbformat": 4,
 "nbformat_minor": 4
}
